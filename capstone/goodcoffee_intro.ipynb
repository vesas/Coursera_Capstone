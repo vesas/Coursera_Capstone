{
 "metadata": {
  "language_info": {
   "codemirror_mode": {
    "name": "ipython",
    "version": 3
   },
   "file_extension": ".py",
   "mimetype": "text/x-python",
   "name": "python",
   "nbconvert_exporter": "python",
   "pygments_lexer": "ipython3",
   "version": "3.9.1-final"
  },
  "orig_nbformat": 2,
  "kernelspec": {
   "name": "python3",
   "display_name": "Python 3",
   "language": "python"
  }
 },
 "nbformat": 4,
 "nbformat_minor": 2,
 "cells": [
  {
   "source": [
    "# Good coffee, good company\n",
    "\n",
    "## Expanding to Helsinki\n",
    "\n",
    "\n"
   ],
   "cell_type": "markdown",
   "metadata": {}
  },
  {
   "source": [
    "## Introduction\n",
    "Good coffee company Ltd has decided to expand to the Helsinki metropolitan area. One question remains: Which location/neighborhood would be good for the new coffee shop?\n",
    "\n",
    "To provide some basis for this decision, let's analyze some data about the Helsinki metropolitan region. We would like to see some data about the economic situation in the neighborhoods, and also would like to include some analysis of the existing offering of cafés in the area.\n"
   ],
   "cell_type": "markdown",
   "metadata": {}
  },
  {
   "source": [
    "## Business problem\n",
    "\n",
    "The aim is to help the stakeholders of this imaginary coffee company to decide where to open a new cafe in the helsinki metropolitan region. The company does not previously have a cafe in Helsinki so they do not have first hand knowledge of the region.\n",
    "\n",
    "For this study the helsinki metropolitan region is taken to include the four cities/counties: Helsinki, Espoo, Vantaa and Kauniainen."
   ],
   "cell_type": "markdown",
   "metadata": {}
  },
  {
   "source": [
    "### Map of Helsinki metropolitan area\n",
    "\n",
    "![Map Helsinki metropolitan area](helsinki_capital_region.PNG)"
   ],
   "cell_type": "markdown",
   "metadata": {}
  },
  {
   "cell_type": "code",
   "execution_count": null,
   "metadata": {},
   "outputs": [],
   "source": []
  }
 ]
}